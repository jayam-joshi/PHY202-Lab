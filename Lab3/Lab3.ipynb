{
 "cells": [
  {
   "cell_type": "code",
   "execution_count": 1,
   "id": "7da32c64",
   "metadata": {},
   "outputs": [
    {
     "name": "stdout",
     "output_type": "stream",
     "text": [
      "Enter fractional decimal number:\n",
      "10.125\n",
      "Enter precision\n",
      "5\n",
      "Binary of the decimal fraction 1010.00100\n"
     ]
    }
   ],
   "source": [
    "def to_binary(n, sign_digits): \n",
    "\n",
    "    binary = \"\"         \n",
    "    n_i = int(n)                      ## Integer part of n\n",
    "    n_f = n - n_i                     ## Fractional part of n\n",
    "\n",
    "    #to convert an integral part to binary equivalent\n",
    "    while (n_i):\n",
    "        d = n_i % 2      ## Storing remainder with 2 as digit\n",
    "        binary += str(d)  \n",
    "        n_i //= 2        ## dividing numbr by 2 until it beomes zero \n",
    "\n",
    "    binary = binary[ : : -1]          ## Reverse the string to get final binary representaion of Integer part\n",
    "    binary += '.'                     ## Place decimal point\n",
    "\n",
    "    #to convert an fractional part to binary equivalent\n",
    "    while (sign_digits):\n",
    "        n_f *= 2                      ## Multiplying fractional part n_f by 2\n",
    "        d = int(n_f)                  \n",
    "        if (d == 1) :                 ## Storing integr part of n_f as digit               \n",
    "            n_f -= d                  ## Updating n_f as fractional part of n_f\n",
    "            binary += '1'\n",
    "        else : \n",
    "            binary += '0'\n",
    "        sign_digits -= 1\n",
    "    return binary  \n",
    "\n",
    "print(\"Enter fractional decimal number:\")         ### Takng input\n",
    "n = float(input())\n",
    "print('Enter precision')\n",
    "N = int(input())\n",
    "\n",
    "print(\"Binary of the decimal fraction\", to_binary(n,N))"
   ]
  },
  {
   "cell_type": "code",
   "execution_count": 2,
   "id": "099bfa91",
   "metadata": {},
   "outputs": [
    {
     "name": "stdout",
     "output_type": "stream",
     "text": [
      "1100000011001000000000000000000\n"
     ]
    }
   ],
   "source": [
    "\n",
    "import numpy as np\n",
    "\n",
    "def to_float32(n):\n",
    "\n",
    "  ans = ''\n",
    "  \n",
    "  # Allocation of sign bit,\n",
    "  if(n>0):\n",
    "    ans = ans + '0'\n",
    "  else:\n",
    "    ans = ans + '1'\n",
    "    n = -n\n",
    " \n",
    "  temp = int(n)\n",
    "  e = 0\n",
    "  # Obtaining value of exponent in decimal\n",
    "\n",
    "  while temp>1:\n",
    "    temp //= 2\n",
    "    e += 1\n",
    "\n",
    "  # Adding Bias '127' to exponent for Float_32 representation\n",
    "  exponent = e + 127\n",
    "  # COnverting to Binary\n",
    "  exponent = int(float(to_binary(exponent,0)))\n",
    "\n",
    "  ans = ans + str(exponent)\n",
    "  \n",
    "  #obtaining value of mantissa\n",
    "  m = to_binary(n,23-e)\n",
    "  mantissa = m[1:e] + m[e+2:]\n",
    "\n",
    "  ans = ans + mantissa\n",
    "\n",
    "  return ans\n",
    "\n",
    "print(to_float32(-7.125))\n"
   ]
  },
  {
   "cell_type": "code",
   "execution_count": null,
   "id": "8411d4c2",
   "metadata": {},
   "outputs": [],
   "source": []
  }
 ],
 "metadata": {
  "kernelspec": {
   "display_name": "Python 3",
   "language": "python",
   "name": "python3"
  },
  "language_info": {
   "codemirror_mode": {
    "name": "ipython",
    "version": 3
   },
   "file_extension": ".py",
   "mimetype": "text/x-python",
   "name": "python",
   "nbconvert_exporter": "python",
   "pygments_lexer": "ipython3",
   "version": "3.8.8"
  }
 },
 "nbformat": 4,
 "nbformat_minor": 5
}
